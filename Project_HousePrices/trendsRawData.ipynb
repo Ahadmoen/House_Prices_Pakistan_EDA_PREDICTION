{
 "cells": [
  {
   "cell_type": "code",
   "execution_count": 2,
   "id": "c64b254b",
   "metadata": {},
   "outputs": [],
   "source": [
    "import pandas as pd\n",
    "import numpy as np\n",
    "import matplotlib.pyplot as plt\n",
    "from pyspark.sql import SparkSession\n",
    "import seaborn as sns\n"
   ]
  },
  {
   "cell_type": "code",
   "execution_count": 3,
   "id": "c23b184c",
   "metadata": {},
   "outputs": [],
   "source": [
    "def Extract(dataset):\n",
    "    return pd.read_csv(dataset)\n",
    "\n",
    "\n",
    "df = Extract(\"House_Price_dataset.csv\")"
   ]
  },
  {
   "cell_type": "code",
   "execution_count": 4,
   "id": "45174d21",
   "metadata": {},
   "outputs": [
    {
     "data": {
      "text/html": [
       "<div>\n",
       "<style scoped>\n",
       "    .dataframe tbody tr th:only-of-type {\n",
       "        vertical-align: middle;\n",
       "    }\n",
       "\n",
       "    .dataframe tbody tr th {\n",
       "        vertical-align: top;\n",
       "    }\n",
       "\n",
       "    .dataframe thead th {\n",
       "        text-align: right;\n",
       "    }\n",
       "</style>\n",
       "<table border=\"1\" class=\"dataframe\">\n",
       "  <thead>\n",
       "    <tr style=\"text-align: right;\">\n",
       "      <th></th>\n",
       "      <th>property_id</th>\n",
       "      <th>location_id</th>\n",
       "      <th>page_url</th>\n",
       "      <th>property_type</th>\n",
       "      <th>price</th>\n",
       "      <th>location</th>\n",
       "      <th>city</th>\n",
       "      <th>province_name</th>\n",
       "      <th>latitude</th>\n",
       "      <th>longitude</th>\n",
       "      <th>baths</th>\n",
       "      <th>area</th>\n",
       "      <th>purpose</th>\n",
       "      <th>bedrooms</th>\n",
       "      <th>date_added</th>\n",
       "      <th>agency</th>\n",
       "      <th>agent</th>\n",
       "      <th>Area Type</th>\n",
       "      <th>Area Size</th>\n",
       "      <th>Area Category</th>\n",
       "    </tr>\n",
       "  </thead>\n",
       "  <tbody>\n",
       "    <tr>\n",
       "      <th>0</th>\n",
       "      <td>237062</td>\n",
       "      <td>3325</td>\n",
       "      <td>https://www.zameen.com/Property/g_10_g_10_2_gr...</td>\n",
       "      <td>Flat</td>\n",
       "      <td>10000000</td>\n",
       "      <td>G-10</td>\n",
       "      <td>Islamabad</td>\n",
       "      <td>Islamabad Capital</td>\n",
       "      <td>33.679890</td>\n",
       "      <td>73.012640</td>\n",
       "      <td>2</td>\n",
       "      <td>4 Marla</td>\n",
       "      <td>For Sale</td>\n",
       "      <td>2</td>\n",
       "      <td>02-04-2019</td>\n",
       "      <td>NaN</td>\n",
       "      <td>NaN</td>\n",
       "      <td>Marla</td>\n",
       "      <td>4.0</td>\n",
       "      <td>0-5 Marla</td>\n",
       "    </tr>\n",
       "    <tr>\n",
       "      <th>1</th>\n",
       "      <td>346905</td>\n",
       "      <td>3236</td>\n",
       "      <td>https://www.zameen.com/Property/e_11_2_service...</td>\n",
       "      <td>Flat</td>\n",
       "      <td>6900000</td>\n",
       "      <td>E-11</td>\n",
       "      <td>Islamabad</td>\n",
       "      <td>Islamabad Capital</td>\n",
       "      <td>33.700993</td>\n",
       "      <td>72.971492</td>\n",
       "      <td>3</td>\n",
       "      <td>5.6 Marla</td>\n",
       "      <td>For Sale</td>\n",
       "      <td>3</td>\n",
       "      <td>05-04-2019</td>\n",
       "      <td>NaN</td>\n",
       "      <td>NaN</td>\n",
       "      <td>Marla</td>\n",
       "      <td>5.6</td>\n",
       "      <td>5-10 Marla</td>\n",
       "    </tr>\n",
       "    <tr>\n",
       "      <th>2</th>\n",
       "      <td>386513</td>\n",
       "      <td>764</td>\n",
       "      <td>https://www.zameen.com/Property/islamabad_g_15...</td>\n",
       "      <td>House</td>\n",
       "      <td>16500000</td>\n",
       "      <td>G-15</td>\n",
       "      <td>Islamabad</td>\n",
       "      <td>Islamabad Capital</td>\n",
       "      <td>33.631486</td>\n",
       "      <td>72.926559</td>\n",
       "      <td>6</td>\n",
       "      <td>8 Marla</td>\n",
       "      <td>For Sale</td>\n",
       "      <td>5</td>\n",
       "      <td>07-17-2019</td>\n",
       "      <td>NaN</td>\n",
       "      <td>NaN</td>\n",
       "      <td>Marla</td>\n",
       "      <td>8.0</td>\n",
       "      <td>5-10 Marla</td>\n",
       "    </tr>\n",
       "    <tr>\n",
       "      <th>3</th>\n",
       "      <td>656161</td>\n",
       "      <td>340</td>\n",
       "      <td>https://www.zameen.com/Property/islamabad_bani...</td>\n",
       "      <td>House</td>\n",
       "      <td>43500000</td>\n",
       "      <td>Bani Gala</td>\n",
       "      <td>Islamabad</td>\n",
       "      <td>Islamabad Capital</td>\n",
       "      <td>33.707573</td>\n",
       "      <td>73.151199</td>\n",
       "      <td>4</td>\n",
       "      <td>2 Kanal</td>\n",
       "      <td>For Sale</td>\n",
       "      <td>4</td>\n",
       "      <td>04-05-2019</td>\n",
       "      <td>NaN</td>\n",
       "      <td>NaN</td>\n",
       "      <td>Kanal</td>\n",
       "      <td>2.0</td>\n",
       "      <td>1-5 Kanal</td>\n",
       "    </tr>\n",
       "    <tr>\n",
       "      <th>4</th>\n",
       "      <td>841645</td>\n",
       "      <td>3226</td>\n",
       "      <td>https://www.zameen.com/Property/dha_valley_dha...</td>\n",
       "      <td>House</td>\n",
       "      <td>7000000</td>\n",
       "      <td>DHA Defence</td>\n",
       "      <td>Islamabad</td>\n",
       "      <td>Islamabad Capital</td>\n",
       "      <td>33.492591</td>\n",
       "      <td>73.301339</td>\n",
       "      <td>3</td>\n",
       "      <td>8 Marla</td>\n",
       "      <td>For Sale</td>\n",
       "      <td>3</td>\n",
       "      <td>07-10-2019</td>\n",
       "      <td>Easy Property</td>\n",
       "      <td>Muhammad Junaid Ceo Muhammad Shahid Director</td>\n",
       "      <td>Marla</td>\n",
       "      <td>8.0</td>\n",
       "      <td>5-10 Marla</td>\n",
       "    </tr>\n",
       "  </tbody>\n",
       "</table>\n",
       "</div>"
      ],
      "text/plain": [
       "   property_id  location_id  \\\n",
       "0       237062         3325   \n",
       "1       346905         3236   \n",
       "2       386513          764   \n",
       "3       656161          340   \n",
       "4       841645         3226   \n",
       "\n",
       "                                            page_url property_type     price  \\\n",
       "0  https://www.zameen.com/Property/g_10_g_10_2_gr...          Flat  10000000   \n",
       "1  https://www.zameen.com/Property/e_11_2_service...          Flat   6900000   \n",
       "2  https://www.zameen.com/Property/islamabad_g_15...         House  16500000   \n",
       "3  https://www.zameen.com/Property/islamabad_bani...         House  43500000   \n",
       "4  https://www.zameen.com/Property/dha_valley_dha...         House   7000000   \n",
       "\n",
       "      location       city      province_name   latitude  longitude  baths  \\\n",
       "0         G-10  Islamabad  Islamabad Capital  33.679890  73.012640      2   \n",
       "1         E-11  Islamabad  Islamabad Capital  33.700993  72.971492      3   \n",
       "2         G-15  Islamabad  Islamabad Capital  33.631486  72.926559      6   \n",
       "3    Bani Gala  Islamabad  Islamabad Capital  33.707573  73.151199      4   \n",
       "4  DHA Defence  Islamabad  Islamabad Capital  33.492591  73.301339      3   \n",
       "\n",
       "        area   purpose  bedrooms  date_added         agency  \\\n",
       "0    4 Marla  For Sale         2  02-04-2019            NaN   \n",
       "1  5.6 Marla  For Sale         3  05-04-2019            NaN   \n",
       "2    8 Marla  For Sale         5  07-17-2019            NaN   \n",
       "3    2 Kanal  For Sale         4  04-05-2019            NaN   \n",
       "4    8 Marla  For Sale         3  07-10-2019  Easy Property   \n",
       "\n",
       "                                          agent Area Type  Area Size  \\\n",
       "0                                           NaN     Marla        4.0   \n",
       "1                                           NaN     Marla        5.6   \n",
       "2                                           NaN     Marla        8.0   \n",
       "3                                           NaN     Kanal        2.0   \n",
       "4  Muhammad Junaid Ceo Muhammad Shahid Director     Marla        8.0   \n",
       "\n",
       "  Area Category  \n",
       "0     0-5 Marla  \n",
       "1    5-10 Marla  \n",
       "2    5-10 Marla  \n",
       "3     1-5 Kanal  \n",
       "4    5-10 Marla  "
      ]
     },
     "execution_count": 4,
     "metadata": {},
     "output_type": "execute_result"
    }
   ],
   "source": [
    "df.head()"
   ]
  },
  {
   "cell_type": "markdown",
   "id": "17eeebcd",
   "metadata": {},
   "source": [
    "<div class='alert alert-block alert-success'>\n",
    "    <b>Success</b>: This box indicates a successful action."
   ]
  },
  {
   "cell_type": "markdown",
   "id": "15fa0ac4",
   "metadata": {},
   "source": [
    "![green-divider](https://user-images.githubusercontent.com/7065401/52071924-c003ad80-2562-11e9-8297-1c6595f8a7ff.png)\n"
   ]
  },
  {
   "cell_type": "code",
   "execution_count": 5,
   "id": "bb5fb572",
   "metadata": {},
   "outputs": [
    {
     "name": "stdout",
     "output_type": "stream",
     "text": [
      "Column details :\n",
      "\n",
      "<class 'pandas.core.frame.DataFrame'>\n",
      "RangeIndex: 168446 entries, 0 to 168445\n",
      "Data columns (total 20 columns):\n",
      " #   Column         Non-Null Count   Dtype  \n",
      "---  ------         --------------   -----  \n",
      " 0   property_id    168446 non-null  int64  \n",
      " 1   location_id    168446 non-null  int64  \n",
      " 2   page_url       168446 non-null  object \n",
      " 3   property_type  168446 non-null  object \n",
      " 4   price          168446 non-null  int64  \n",
      " 5   location       168446 non-null  object \n",
      " 6   city           168446 non-null  object \n",
      " 7   province_name  168446 non-null  object \n",
      " 8   latitude       168446 non-null  float64\n",
      " 9   longitude      168446 non-null  float64\n",
      " 10  baths          168446 non-null  int64  \n",
      " 11  area           168446 non-null  object \n",
      " 12  purpose        168446 non-null  object \n",
      " 13  bedrooms       168446 non-null  int64  \n",
      " 14  date_added     168446 non-null  object \n",
      " 15  agency         124375 non-null  object \n",
      " 16  agent          124374 non-null  object \n",
      " 17  Area Type      168446 non-null  object \n",
      " 18  Area Size      168446 non-null  float64\n",
      " 19  Area Category  168446 non-null  object \n",
      "dtypes: float64(3), int64(5), object(12)\n",
      "memory usage: 25.7+ MB\n",
      "None\n"
     ]
    }
   ],
   "source": [
    "def Colsinfo(dataframe):\n",
    "    print(\"Column details :\\n\")\n",
    "    print(dataframe.info())\n",
    "\n",
    "def BStats(dataframe):\n",
    "    print(\"Basic Statisitcs:\")\n",
    "    print(dataframe.describe())\n",
    "\n",
    "Colsinfo(df)"
   ]
  },
  {
   "cell_type": "code",
   "execution_count": 6,
   "id": "720a9e30",
   "metadata": {},
   "outputs": [
    {
     "name": "stdout",
     "output_type": "stream",
     "text": [
      "Basic Statisitcs:\n",
      "        property_id    location_id         price       latitude  \\\n",
      "count  1.684460e+05  168446.000000  1.684460e+05  168446.000000   \n",
      "mean   1.559626e+07    4375.936395  1.776576e+07      29.859519   \n",
      "std    2.251207e+06    3776.561581  3.531003e+07       3.807870   \n",
      "min    8.657500e+04       1.000000  0.000000e+00      11.052446   \n",
      "25%    1.488320e+07    1058.000000  1.750000e+05      24.948536   \n",
      "50%    1.665851e+07    3286.000000  8.500000e+06      31.459784   \n",
      "75%    1.708662e+07    7220.000000  1.950000e+07      33.560887   \n",
      "max    1.735772e+07   14220.000000  2.000000e+09      73.184088   \n",
      "\n",
      "           longitude          baths       bedrooms      Area Size  \n",
      "count  168446.000000  168446.000000  168446.000000  168446.000000  \n",
      "mean       71.239804       2.874227       3.179422       5.892188  \n",
      "std         3.133042       2.463400       1.971401       5.778327  \n",
      "min        25.906027       0.000000       0.000000       0.000000  \n",
      "25%        67.130363       0.000000       2.000000       3.000000  \n",
      "50%        73.056182       3.000000       3.000000       5.000000  \n",
      "75%        73.259870       4.000000       4.000000       8.000000  \n",
      "max        80.161430     403.000000      68.000000     800.000000  \n"
     ]
    }
   ],
   "source": [
    "BStats(df)"
   ]
  },
  {
   "cell_type": "markdown",
   "id": "bcf23fae",
   "metadata": {},
   "source": [
    "![green-divider](https://user-images.githubusercontent.com/7065401/52071924-c003ad80-2562-11e9-8297-1c6595f8a7ff.png)\n"
   ]
  },
  {
   "cell_type": "code",
   "execution_count": null,
   "id": "f0834476",
   "metadata": {},
   "outputs": [
    {
     "data": {
      "image/png": "[encoded data removed]",
      "text/plain": [
       "<Figure size 800x500 with 1 Axes>"
      ]
     },
     "metadata": {},
     "output_type": "display_data"
    },
    {
     "data": {
      "image/png": "[encoded data removed]",
      "text/plain": [
       "<Figure size 800x500 with 1 Axes>"
      ]
     },
     "metadata": {},
     "output_type": "display_data"
    },
    {
     "data": {
      "image/png": "[encoded data removed]",
      "text/plain": [
       "<Figure size 800x500 with 1 Axes>"
      ]
     },
     "metadata": {},
     "output_type": "display_data"
    },
    {
     "data": {
      "image/png": "[encoded data removed]",
      "text/plain": [
       "<Figure size 800x500 with 1 Axes>"
      ]
     },
     "metadata": {},
     "output_type": "display_data"
    }
   ],
   "source": [
    "from plots import BoxPlot, set_style\n",
    "\n",
    "set_style()\n",
    "\n",
    "cols = ['price', 'baths', 'bedrooms', 'Area Size']\n",
    "names = ['Price', 'Baths', 'Bedrooms', 'Area Size']\n",
    "\n",
    "for col, name in zip(cols, names):\n",
    "    BoxPlot(df[col], title=name)\n"
   ]
  },
  {
   "cell_type": "markdown",
   "id": "c797429d",
   "metadata": {},
   "source": []
  }
 ],
 "metadata": {
  "kernelspec": {
   "display_name": ".venv",
   "language": "python",
   "name": "python3"
  },
  "language_info": {
   "codemirror_mode": {
    "name": "ipython",
    "version": 3
   },
   "file_extension": ".py",
   "mimetype": "text/x-python",
   "name": "python",
   "nbconvert_exporter": "python",
   "pygments_lexer": "ipython3",
   "version": "3.12.1"
  }
 },
 "nbformat": 4,
 "nbformat_minor": 5
}
